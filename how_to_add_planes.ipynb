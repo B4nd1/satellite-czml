{
  "nbformat": 4,
  "nbformat_minor": 0,
  "metadata": {
    "colab": {
      "provenance": []
    },
    "kernelspec": {
      "name": "python3",
      "display_name": "Python 3"
    },
    "language_info": {
      "name": "python"
    }
  },
  "cells": [
    {
      "cell_type": "markdown",
      "source": [
        "# Example uses of the additions I have done"
      ],
      "metadata": {
        "id": "oKOhIdzh7_bv"
      }
    },
    {
      "cell_type": "markdown",
      "source": [
        "One plane"
      ],
      "metadata": {
        "id": "FaQZAklJ8WwM"
      }
    },
    {
      "cell_type": "code",
      "source": [
        "from datetime import datetime, timezone, timedelta\n",
        "from satellite_czml import plane_czml\n",
        "\n",
        "# Example flight with 4 waypoints over a 30‐minute span\n",
        "coords = [\n",
        "    (-122.4, 37.6, 1000),\n",
        "    (-121.9, 38.0, 1200),\n",
        "    (-121.4, 38.3, 1500),\n",
        "    (-120.9, 38.7, 1800),\n",
        "]\n",
        "start = datetime(2025, 6, 27, 12, 0, tzinfo=timezone.utc)\n",
        "end   = start + timedelta(minutes=30)\n",
        "\n",
        "flight = plane_czml.Plane(coords, id=\"N12345\", name=\"Flight 123\", start_time=start, end_time=end, show_path=False)\n",
        "doc    = plane_czml.PlaneCZML([flight], start_time=start, end_time=end)\n",
        "czml   = doc.get_czml()\n",
        "\n",
        "# Write out\n",
        "with open('flight123.czml', 'w') as f:\n",
        "    f.write(czml)\n"
      ],
      "metadata": {
        "id": "u14xtUpK8HUw"
      },
      "execution_count": null,
      "outputs": []
    },
    {
      "cell_type": "markdown",
      "source": [
        "Using czml_manager"
      ],
      "metadata": {
        "id": "fDDKVHK48b_6"
      }
    },
    {
      "cell_type": "code",
      "source": [
        "from datetime import timezone, datetime, timedelta\n",
        "\n",
        "from satellite_czml import plane_czml, satellite, satellite_czml, czml_manager\n",
        "from satellite_czml.groundstation_czml import GroundStation\n",
        "from satellite_czml.plane_czml import Plane, PlaneCZML\n",
        "\n",
        "start = datetime(2025, 9, 2, 11, 0, tzinfo=timezone.utc)\n",
        "end   = start + timedelta(minutes=30)\n",
        "\n",
        "\n",
        "plane1 = [\n",
        "    (-74.0, 40.7, 800),\n",
        "    (-73.8, 40.8, 1000),\n",
        "    (-73.6, 40.9, 1200),\n",
        "    (-73.4, 41.0, 1400),\n",
        "]\n",
        "\n",
        "plane2 = [\n",
        "    (-122.4, 37.6, 1000),\n",
        "    (-121.9, 38.0, 1200),\n",
        "    (-121.4, 38.3, 1500),\n",
        "    (-120.9, 38.7, 1800),\n",
        "]\n",
        "\n",
        "plane3 = [\n",
        "    (-118.5, 34.0, 500),\n",
        "    (-118.2, 34.1, 800),\n",
        "    (-117.9, 34.3, 1100),\n",
        "    (-117.6, 34.5, 1400),\n",
        "]\n",
        "\n",
        "plane4 = [\n",
        "    (10.0, 50.0, 1000),\n",
        "    (10.5, 50.3, 1300),\n",
        "    (11.0, 50.6, 1600),\n",
        "    (11.5, 51.0, 2000),\n",
        "]\n",
        "\n",
        "plane_coords = [plane1, plane2, plane3, plane4]\n",
        "\n",
        "\n",
        "sats = []\n",
        "\n",
        "tles = [['STARLINK-1008', '1 44714U 19074B   25156.77297252  .00000649  00000+0  62461-4 0  9992',\n",
        "               '2 44714  53.0572 349.7442 0001530 101.0287 259.0874 15.06403107307018'],\n",
        "              ['STARLINK-1010', '1 44716U 19074D   25156.72288325  .00018714  00000+0  37901-3 0  9992',\n",
        "               '2 44716  53.0570 341.6134 0001493 190.5245 169.5730 15.46479486307105'],\n",
        "              ['STARLINK-1011', '1 44717U 19074E   25156.97754119  .00003068  00000+0  22480-3 0  9991',\n",
        "               '2 44717  53.0533   8.8269 0001123  74.1371 285.9741 15.06394815306936']]\n",
        "for i in tles:\n",
        "    sats.append(satellite(i,\n",
        "                          start_time=start,\n",
        "                          end_time=end,\n",
        "                          show_label=True,\n",
        "                          show_path=False,\n",
        "                          )\n",
        "                )\n",
        "\n",
        "\n",
        "planes = []\n",
        "\n",
        "id = 1\n",
        "for i in plane_coords:\n",
        "    plane = Plane(coords=i, id=id, name=f\"Flight ID {id}\",\n",
        "                  start_time=start, end_time=end, show_path=False)\n",
        "    planes.append(plane)\n",
        "    id += 1\n",
        "\n",
        "\n",
        "ground_stations = [GroundStation(\n",
        "    lon=13.41,\n",
        "    lat=52.52,\n",
        "    alt=34,\n",
        "    start_time=start,\n",
        "    end_time=end,\n",
        "    id=\"GS_Berlin\",\n",
        "    name=\"Berlin Ground Station\"\n",
        "), GroundStation(\n",
        "    lon=-0.1278,\n",
        "    lat=51.5074,\n",
        "    alt=24,\n",
        "    start_time=start,\n",
        "    end_time=end,\n",
        "    id=\"GS_London\",\n",
        "    name=\"London Ground Station\"\n",
        "), GroundStation(\n",
        "    lon=139.6917,\n",
        "    lat=35.6895,\n",
        "    alt=44,\n",
        "    start_time=start,\n",
        "    end_time=end,\n",
        "    id=\"GS_Tokyo\",\n",
        "    name=\"Tokyo Ground Station\"\n",
        "), GroundStation(\n",
        "    lon=-118.2437,\n",
        "    lat=34.0522,\n",
        "    alt=71,\n",
        "    start_time=start,\n",
        "    end_time=end,\n",
        "    id=\"GS_LosAngeles\",\n",
        "    name=\"Los Angeles Ground Station\"\n",
        ")]\n",
        "\n",
        "all_objs = sats + planes + ground_stations\n",
        "\n",
        "czml = czml_manager.CZMLManager(all_objs).get_czml()\n",
        "\n",
        "# Write out\n",
        "with open('flightmany_w_sats_and_ground.czml', 'w') as f:\n",
        "    f.write(czml)\n"
      ],
      "metadata": {
        "id": "ST59ejOk94oC"
      },
      "execution_count": null,
      "outputs": []
    }
  ]
}